{
 "cells": [
  {
   "cell_type": "code",
   "execution_count": null,
   "metadata": {},
   "outputs": [],
   "source": [
    "%pip install pandas duckdb matplotlib seaborn\n",
    "\n",
    "import pandas as pd\n",
    "import duckdb\n",
    "import os\n",
    "import matplotlib.pyplot as plt\n",
    "import re\n",
    "import seaborn as sns\n",
    "import numpy as np\n",
    "import matplotlib.ticker as ticker"
   ]
  },
  {
   "cell_type": "code",
   "execution_count": null,
   "metadata": {},
   "outputs": [],
   "source": [
    "file_path = '../tpc_xeon_perf.csv'\n",
    "# if you want to recreate tpc_xeon\n",
    "# file_path = '../tpc_xeon.csv'\n",
    "if os.path.exists(file_path):\n",
    "    df = pd.read_csv(file_path, sep=\",\")\n",
    "else:\n",
    "    raise FileNotFoundError(f\"The file {file_path} does not exist.\")\n",
    "\n",
    "key_year = 'model_launch_year'\n",
    "key_spec_perf = \"median_spec_int_perf\"\n",
    "key_perf = \"perf_times_cores\"\n",
    "key_perf_per_tdp = \"perf_per_tdp\"\n",
    "key_tdp = \"TDP/CPU (W)\"\n",
    "key_cores_per_cpu = \"cores_per_cpu\"\n",
    "key_cores = \"cores\"\n",
    "key_processors = \"processors\""
   ]
  },
  {
   "cell_type": "code",
   "execution_count": null,
   "metadata": {},
   "outputs": [],
   "source": [
    "# print(df.columns)\n",
    "# df.drop(columns=[key_perf_per_tdp], inplace=True)\n",
    "# print(df.columns)"
   ]
  },
  {
   "cell_type": "code",
   "execution_count": null,
   "metadata": {},
   "outputs": [],
   "source": [
    "figsize = (4, 2)\n",
    "x_rotation = 90\n",
    "\n",
    "# if you want to recreate tpc_xeon\n",
    "# df = df[~df[key_spec_perf].isna()]\n",
    "\n",
    "# df[key_processors] = df[key_processors].astype(int)\n",
    "# df[key_cores_per_cpu] = df[key_cores] / df[key_processors]\n",
    "# df[key_perf] = df[key_spec_perf] * df[key_cores_per_cpu]\n",
    "# df[key_perf_per_tdp] = df[key_perf] / df[key_tdp]\n",
    "# df.to_csv(\"../tpc_xeon_perf.csv\", header=True)\n",
    "\n",
    "# print(df)\n",
    "\n",
    "df = df.sort_values(by=key_year)\n",
    "\n",
    "x_val = key_year\n",
    "y_val = key_perf\n",
    "\n",
    "fig, ax = plt.subplots(figsize=figsize)\n",
    "ax.scatter(df[x_val], df[y_val], marker='x')\n",
    "\n",
    "plt.xlabel('Year')\n",
    "plt.ylabel(\"Spec Int Performance\\n* Core Count\")\n",
    "\n",
    "ax.set_yscale('log')\n",
    "\n",
    "# ax.yaxis.set_major_locator(ticker.MultipleLocator(200))\n",
    "ax.set_xticks(df[x_val].unique())\n",
    "ax.set_xticklabels(df[x_val].unique())\n",
    "\n",
    "plt.title('')\n",
    "plt.xticks(rotation=x_rotation)\n",
    "plt.ylim(bottom=0)\n",
    "plt.grid(True)\n",
    "plt.tight_layout()\n",
    "plt.subplots_adjust(top=0.95, bottom=0.15, left=0.15, right=0.95)\n",
    "plt.savefig(\"../figures/tcp_cpus_perf.pdf\", bbox_inches='tight')\n",
    "plt.show()\n",
    "plt.close()\n"
   ]
  },
  {
   "cell_type": "code",
   "execution_count": null,
   "metadata": {},
   "outputs": [],
   "source": [
    "x_val = key_year\n",
    "y_val = key_tdp\n",
    "\n",
    "fig, ax = plt.subplots(figsize=figsize)\n",
    "ax.scatter(df[x_val], df[y_val], marker='x')\n",
    "\n",
    "ax.set_xlabel('Year')\n",
    "ax.set_ylabel('TDP [Watts]')\n",
    "\n",
    "ax.set_xticks(df[x_val].unique())\n",
    "ax.set_xticklabels(df[x_val].unique())\n",
    "ax.yaxis.set_major_locator(ticker.MultipleLocator(25))\n",
    "\n",
    "ax.set_title('')\n",
    "plt.xticks(rotation=x_rotation)\n",
    "ax.set_ylim(bottom=0)\n",
    "plt.grid(True)\n",
    "plt.tight_layout()\n",
    "plt.savefig(\"../figures/tcp_cpus_tdp.pdf\")\n",
    "plt.show()\n",
    "plt.close()"
   ]
  },
  {
   "cell_type": "code",
   "execution_count": null,
   "metadata": {},
   "outputs": [],
   "source": [
    "x_val = key_year\n",
    "y_val = key_perf_per_tdp\n",
    "\n",
    "fig, ax = plt.subplots(figsize=figsize)\n",
    "ax.scatter(df[x_val], df[y_val], marker='x')\n",
    "\n",
    "plt.xlabel('Year')\n",
    "plt.ylabel(\"Spec Int Performance\\n* core count per TDP\")\n",
    "\n",
    "# ax.yaxis.set_major_locator(ticker.MultipleLocator(0.05))\n",
    "ax.set_xticks(df[x_val].unique())\n",
    "ax.set_xticklabels(df[x_val].unique())\n",
    "\n",
    "ax.set_title('')\n",
    "plt.xticks(rotation=x_rotation)\n",
    "ax.set_ylim(bottom=0)\n",
    "plt.grid(True)\n",
    "plt.tight_layout()\n",
    "plt.savefig(\"../figures/tpc_cpus_spec_perf_tdp.pdf\")\n",
    "plt.show()\n",
    "plt.close()"
   ]
  }
 ],
 "metadata": {
  "kernelspec": {
   "display_name": ".venv",
   "language": "python",
   "name": "python3"
  },
  "language_info": {
   "codemirror_mode": {
    "name": "ipython",
    "version": 3
   },
   "file_extension": ".py",
   "mimetype": "text/x-python",
   "name": "python",
   "nbconvert_exporter": "python",
   "pygments_lexer": "ipython3",
   "version": "3.12.7"
  }
 },
 "nbformat": 4,
 "nbformat_minor": 2
}
