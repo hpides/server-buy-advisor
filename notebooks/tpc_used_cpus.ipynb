{
 "cells": [
  {
   "cell_type": "code",
   "execution_count": null,
   "metadata": {},
   "outputs": [],
   "source": [
    "%pip install pandas duckdb matplotlib seaborn\n",
    "\n",
    "import pandas as pd\n",
    "import duckdb\n",
    "import os\n",
    "import matplotlib.pyplot as plt\n",
    "import re\n",
    "import seaborn as sns\n",
    "import numpy as np"
   ]
  },
  {
   "cell_type": "code",
   "execution_count": 3,
   "metadata": {},
   "outputs": [],
   "source": [
    "file_path = '../tpc_cpu.csv'\n",
    "if os.path.exists(file_path):\n",
    "    df = pd.read_csv(file_path, sep=\",\")\n",
    "else:\n",
    "    raise FileNotFoundError(f\"The file {file_path} does not exist.\")"
   ]
  },
  {
   "cell_type": "code",
   "execution_count": 4,
   "metadata": {},
   "outputs": [],
   "source": [
    "def extract_performance_id(name):\n",
    "    match = re.search(r'\\d{4}', name)\n",
    "    if match:\n",
    "        return match.group(0)[-2:]\n",
    "    return None\n",
    "\n",
    "def extract_sku_level(name):\n",
    "    match = re.search(r'\\d{4}', name)\n",
    "    if match:\n",
    "        return int(match.group(0)[0])\n",
    "    return None"
   ]
  },
  {
   "cell_type": "code",
   "execution_count": 5,
   "metadata": {},
   "outputs": [],
   "source": [
    "# Clean / add data\n",
    "df = df[df['model'].str.contains('xeon', case=False, na=False)]\n",
    "df['performance_id'] = df['model'].apply(extract_performance_id)\n",
    "df['sku_level'] = df['model'].apply(extract_sku_level)\n",
    "df = df[df['sku_level'] != '']\n",
    "df.to_csv(\"../tpc_sku.csv\", header=True)"
   ]
  },
  {
   "cell_type": "code",
   "execution_count": null,
   "metadata": {},
   "outputs": [],
   "source": [
    "sku_counts = df['sku_level'].value_counts().sort_index()\n",
    "\n",
    "# Creating the bar plot\n",
    "plt.figure(figsize=(10, 3))\n",
    "sku_counts.plot(kind='bar')\n",
    "\n",
    "# Adding titles and labels\n",
    "plt.title('Occurrences of sku_level')\n",
    "plt.xlabel('SKU Level')\n",
    "plt.ylabel('Number of Occurrences')\n",
    "\n",
    "# Setting y-axis to show only integer values\n",
    "plt.yticks(np.arange(0, sku_counts.max() + 1, 1))\n",
    "\n",
    "# Displaying the plot\n",
    "plt.show()"
   ]
  },
  {
   "cell_type": "code",
   "execution_count": null,
   "metadata": {},
   "outputs": [],
   "source": [
    "sku_counts = df['performance_id'].value_counts().sort_index()\n",
    "\n",
    "# Creating the bar plot\n",
    "plt.figure(figsize=(10, 3))\n",
    "sku_counts.plot(kind='bar')\n",
    "\n",
    "# Adding titles and labels\n",
    "plt.title('Occurrences of performance_id')\n",
    "plt.xlabel('Perf ID')\n",
    "plt.ylabel('Number of Occurrences')\n",
    "\n",
    "# Setting y-axis to show only integer values\n",
    "plt.yticks(np.arange(0, sku_counts.max() + 1, 1))\n",
    "\n",
    "# Displaying the plot\n",
    "plt.show()"
   ]
  },
  {
   "cell_type": "code",
   "execution_count": null,
   "metadata": {},
   "outputs": [],
   "source": [
    "cpu_models = df['model']\n",
    "cpu_models.to_csv(\"../tpc_xeon.csv\")\n",
    "\n",
    "# Filter with sku level\n",
    "df = df[df['sku_level'] >= 5]\n",
    "\n",
    "sku_counts = df['performance_id'].value_counts().sort_index()\n",
    "\n",
    "# Creating the bar plot\n",
    "plt.figure(figsize=(10, 3))\n",
    "sku_counts.plot(kind='bar')\n",
    "\n",
    "# Adding titles and labels\n",
    "plt.title('Occurrences of performance_id')\n",
    "plt.xlabel('Perf ID')\n",
    "plt.ylabel('Number of Occurrences')\n",
    "\n",
    "# Setting y-axis to show only integer values\n",
    "plt.yticks(np.arange(0, sku_counts.max() + 1, 1))\n",
    "\n",
    "# Displaying the plot\n",
    "plt.show()"
   ]
  },
  {
   "cell_type": "code",
   "execution_count": 9,
   "metadata": {},
   "outputs": [],
   "source": [
    "# con = duckdb.connect(\"../spec.db\") # assumes DuckDB DB \"spec.db\" in root dir\n",
    "# con.sql(\"DROP TABLE IF EXISTS spec\")\n",
    "# con.sql(\"CREATE TABLE spec AS SELECT * FROM df_combined\")\n",
    "# con.close()"
   ]
  }
 ],
 "metadata": {
  "kernelspec": {
   "display_name": ".venv",
   "language": "python",
   "name": "python3"
  },
  "language_info": {
   "codemirror_mode": {
    "name": "ipython",
    "version": 3
   },
   "file_extension": ".py",
   "mimetype": "text/x-python",
   "name": "python",
   "nbconvert_exporter": "python",
   "pygments_lexer": "ipython3",
   "version": "3.12.6"
  }
 },
 "nbformat": 4,
 "nbformat_minor": 2
}
