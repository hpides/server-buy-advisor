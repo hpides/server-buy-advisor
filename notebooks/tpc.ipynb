{
 "cells": [
  {
   "cell_type": "code",
   "execution_count": null,
   "metadata": {},
   "outputs": [],
   "source": [
    "import pandas as pd\n",
    "from itables import init_notebook_mode\n",
    "\n",
    "init_notebook_mode(all_interactive=True)\n",
    "\n",
    "# Load the CSV file, considering only specific columns\n",
    "file_path = '../tpchv2.csv'\n",
    "data = pd.read_csv(file_path, index_col=False, usecols=['Scale Factor', 'CPU Type', 'Date Submitted', '# CPU\\'s', 'Total Processors', 'Total Cores', 'Total Threads'], parse_dates=['Date Submitted'])\n",
    "\n",
    "# Filter out rows where Scale Factor is not 1000\n",
    "data = data[data['Scale Factor'] == 1000]\n",
    "\n",
    "# data = data[data['Date Submitted'] >= '2012']\n",
    "\n",
    "# Sort the results by Date Submitted\n",
    "data = data.sort_values(by='Date Submitted')\n",
    "\n",
    "# Group the data by CPU Type\n",
    "data = data.groupby(['CPU Type', 'Date Submitted'])\n",
    "\n",
    "# Display the content of the grouped data\n",
    "# for cpu_type, group in data:\n",
    "#     print(group)\n",
    "#     print()\n",
    "\n",
    "# Display the content of the filtered and sorted data\n",
    "data.describe()"
   ]
  }
 ],
 "metadata": {
  "kernelspec": {
   "display_name": ".venv",
   "language": "python",
   "name": "python3"
  },
  "language_info": {
   "codemirror_mode": {
    "name": "ipython",
    "version": 3
   },
   "file_extension": ".py",
   "mimetype": "text/x-python",
   "name": "python",
   "nbconvert_exporter": "python",
   "pygments_lexer": "ipython3",
   "version": "3.12.6"
  }
 },
 "nbformat": 4,
 "nbformat_minor": 2
}
